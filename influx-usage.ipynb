{
 "cells": [
  {
   "cell_type": "markdown",
   "id": "07efb26d-840e-4d60-9582-eb66160148dc",
   "metadata": {},
   "source": [
    "data for brian_counters (7 days retention)\n"
   ]
  },
  {
   "cell_type": "markdown",
   "id": "3d4fc6d3-f0ec-4dd7-b777-f70e44375009",
   "metadata": {},
   "source": [
    "```bash\n",
    "root@prod-influxdb-data01:/var/lib/influxdb/data/brian_counters# du -sh brian/\n",
    "524M\tbrian/\n",
    "root@prod-influxdb-data01:/var/lib/influxdb/data/brian_counters# \n",
    "```"
   ]
  },
  {
   "cell_type": "code",
   "execution_count": 4,
   "id": "81497015-d25f-492c-b48c-a21652accfe5",
   "metadata": {},
   "outputs": [
    {
     "name": "stdout",
     "output_type": "stream",
     "text": [
      "549453824\n"
     ]
    }
   ],
   "source": [
    "m524 = 524 * (1 << 20)\n",
    "print(m524)"
   ]
  },
  {
   "cell_type": "markdown",
   "id": "2d8c915f-9bab-4f8a-a634-e14f7b9472a5",
   "metadata": {},
   "source": [
    "roughly\n",
    " * 4000 interfaces\n",
    " * 4 floats per interface\n",
    " * per 5 minutes\n",
    " * ... v6 are sparse, ignored"
   ]
  },
  {
   "cell_type": "code",
   "execution_count": 5,
   "id": "e699423f-a86d-4338-bde6-dce3a39584b4",
   "metadata": {},
   "outputs": [
    {
     "name": "stdout",
     "output_type": "stream",
     "text": [
      "32256000\n"
     ]
    }
   ],
   "source": [
    "num_floats = 4000 * 7 * 4 * 24 * 12\n",
    "print(num_floats)"
   ]
  },
  {
   "cell_type": "code",
   "execution_count": 6,
   "id": "e8e938d2-7128-42b2-ade6-a7623ca49db2",
   "metadata": {},
   "outputs": [
    {
     "name": "stdout",
     "output_type": "stream",
     "text": [
      "17.03415873015873\n"
     ]
    }
   ],
   "source": [
    "bytes_per_float = m524/num_floats\n",
    "print(bytes_per_float)"
   ]
  },
  {
   "cell_type": "markdown",
   "id": "0e60fed3-6be4-4fe8-bdb5-64319bbff916",
   "metadata": {},
   "source": [
    "eurohpc est daily measurements\n",
    "* ping rtt per host\n",
    "* 400 hosts\n",
    "* per second "
   ]
  },
  {
   "cell_type": "code",
   "execution_count": 7,
   "id": "a436a3f1-b058-431e-93e5-b0dbdb9d15fa",
   "metadata": {},
   "outputs": [
    {
     "name": "stdout",
     "output_type": "stream",
     "text": [
      "34560000\n"
     ]
    }
   ],
   "source": [
    "daily_measurements = 400 * 3600 * 24\n",
    "print(daily_measurements)"
   ]
  },
  {
   "cell_type": "code",
   "execution_count": 8,
   "id": "10898df8-7731-4a63-a609-088df2862424",
   "metadata": {},
   "outputs": [
    {
     "name": "stdout",
     "output_type": "stream",
     "text": [
      "561\n"
     ]
    }
   ],
   "source": [
    "yearly_bytes = daily_measurements * bytes_per_float\n",
    "yearly_MB = int(yearly_bytes) >> 20\n",
    "print(yearly_MB)"
   ]
  },
  {
   "cell_type": "markdown",
   "id": "4d637d69-6fd1-4e0e-8106-bf5e236f6ecc",
   "metadata": {},
   "source": [
    "let's assume there will be 1-2 derivative measurements, and maybe some additional low frequency data"
   ]
  },
  {
   "cell_type": "code",
   "execution_count": 9,
   "id": "52628b76-06d9-46f6-aa74-a36a195115c2",
   "metadata": {},
   "outputs": [
    {
     "name": "stdout",
     "output_type": "stream",
     "text": [
      "2244\n"
     ]
    }
   ],
   "source": [
    "total_annual = yearly_MB * 4\n",
    "print(total_annual)"
   ]
  }
 ],
 "metadata": {
  "kernelspec": {
   "display_name": "Python 3 (ipykernel)",
   "language": "python",
   "name": "python3"
  },
  "language_info": {
   "codemirror_mode": {
    "name": "ipython",
    "version": 3
   },
   "file_extension": ".py",
   "mimetype": "text/x-python",
   "name": "python",
   "nbconvert_exporter": "python",
   "pygments_lexer": "ipython3",
   "version": "3.12.8"
  }
 },
 "nbformat": 4,
 "nbformat_minor": 5
}
